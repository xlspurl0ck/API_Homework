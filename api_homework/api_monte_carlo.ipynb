{
 "cells": [
  {
   "cell_type": "code",
   "execution_count": 2,
   "metadata": {},
   "outputs": [],
   "source": [
    "import numpy as np\n",
    "import pandas as pd\n",
    "import os\n",
    "from datetime import datetime, timedelta\n",
    "import matplotlib.pyplot as plt\n",
    "import alpaca_trade_api as tradeapi"
   ]
  },
  {
   "cell_type": "code",
   "execution_count": 3,
   "metadata": {},
   "outputs": [],
   "source": [
    "np.random.seed(42)"
   ]
  },
  {
   "cell_type": "code",
   "execution_count": 4,
   "metadata": {},
   "outputs": [],
   "source": [
    "from dotenv import load_dotenv\n",
    "load_dotenv()\n",
    "\n",
    "alpaca_api_key = \"PKMZJNKFRYTWGSPMH3RR\"\n",
    "alpaca_secret_key = \"PeIA0dIVFRK5aMaHIiXPcBAblSY721ZIo9e3MMcg\"\n",
    "\n",
    "api = tradeapi.REST(\n",
    "    alpaca_api_key,\n",
    "    alpaca_secret_key,\n",
    "    api_version=\"v2\")"
   ]
  },
  {
   "cell_type": "code",
   "execution_count": 5,
   "metadata": {},
   "outputs": [],
   "source": [
    "ticker = [\"SPY\", \"AGG\"]\n",
    "\n",
    "timeframe = \"1D\"\n",
    "\n",
    "start_date = pd.Timestamp('2019-01-01', tz='America/New_York').isoformat()\n",
    "end_date = pd.Timestamp('2019-12-31', tz='America/New_York').isoformat()\n",
    "\n",
    "df = api.get_barset(\n",
    "    ticker,\n",
    "    timeframe,\n",
    "    limit=None,\n",
    "    start=start_date,\n",
    "    end=end_date,\n",
    "    after=None,\n",
    "    until=None,\n",
    ").df\n",
    "\n",
    "df = df.drop(\n",
    "    columns=['open', 'high', 'low', 'volume'],\n",
    "    level=1\n",
    ")"
   ]
  },
  {
   "cell_type": "code",
   "execution_count": 6,
   "metadata": {},
   "outputs": [
    {
     "data": {
      "text/html": [
       "<div>\n",
       "<style scoped>\n",
       "    .dataframe tbody tr th:only-of-type {\n",
       "        vertical-align: middle;\n",
       "    }\n",
       "\n",
       "    .dataframe tbody tr th {\n",
       "        vertical-align: top;\n",
       "    }\n",
       "\n",
       "    .dataframe thead tr th {\n",
       "        text-align: left;\n",
       "    }\n",
       "\n",
       "    .dataframe thead tr:last-of-type th {\n",
       "        text-align: right;\n",
       "    }\n",
       "</style>\n",
       "<table border=\"1\" class=\"dataframe\">\n",
       "  <thead>\n",
       "    <tr>\n",
       "      <th></th>\n",
       "      <th>AGG</th>\n",
       "      <th>SPY</th>\n",
       "    </tr>\n",
       "    <tr>\n",
       "      <th></th>\n",
       "      <th>close</th>\n",
       "      <th>close</th>\n",
       "    </tr>\n",
       "    <tr>\n",
       "      <th>time</th>\n",
       "      <th></th>\n",
       "      <th></th>\n",
       "    </tr>\n",
       "  </thead>\n",
       "  <tbody>\n",
       "    <tr>\n",
       "      <th>2019-01-02 00:00:00-05:00</th>\n",
       "      <td>106.585</td>\n",
       "      <td>249.89</td>\n",
       "    </tr>\n",
       "    <tr>\n",
       "      <th>2019-01-03 00:00:00-05:00</th>\n",
       "      <td>107.020</td>\n",
       "      <td>244.46</td>\n",
       "    </tr>\n",
       "    <tr>\n",
       "      <th>2019-01-04 00:00:00-05:00</th>\n",
       "      <td>106.695</td>\n",
       "      <td>252.41</td>\n",
       "    </tr>\n",
       "    <tr>\n",
       "      <th>2019-01-07 00:00:00-05:00</th>\n",
       "      <td>106.470</td>\n",
       "      <td>254.40</td>\n",
       "    </tr>\n",
       "    <tr>\n",
       "      <th>2019-01-08 00:00:00-05:00</th>\n",
       "      <td>106.420</td>\n",
       "      <td>256.65</td>\n",
       "    </tr>\n",
       "  </tbody>\n",
       "</table>\n",
       "</div>"
      ],
      "text/plain": [
       "                               AGG     SPY\n",
       "                             close   close\n",
       "time                                      \n",
       "2019-01-02 00:00:00-05:00  106.585  249.89\n",
       "2019-01-03 00:00:00-05:00  107.020  244.46\n",
       "2019-01-04 00:00:00-05:00  106.695  252.41\n",
       "2019-01-07 00:00:00-05:00  106.470  254.40\n",
       "2019-01-08 00:00:00-05:00  106.420  256.65"
      ]
     },
     "execution_count": 6,
     "metadata": {},
     "output_type": "execute_result"
    }
   ],
   "source": [
    "df.head()"
   ]
  },
  {
   "cell_type": "code",
   "execution_count": 34,
   "metadata": {},
   "outputs": [
    {
     "data": {
      "text/html": [
       "<div>\n",
       "<style scoped>\n",
       "    .dataframe tbody tr th:only-of-type {\n",
       "        vertical-align: middle;\n",
       "    }\n",
       "\n",
       "    .dataframe tbody tr th {\n",
       "        vertical-align: top;\n",
       "    }\n",
       "\n",
       "    .dataframe thead tr th {\n",
       "        text-align: left;\n",
       "    }\n",
       "\n",
       "    .dataframe thead tr:last-of-type th {\n",
       "        text-align: right;\n",
       "    }\n",
       "</style>\n",
       "<table border=\"1\" class=\"dataframe\">\n",
       "  <thead>\n",
       "    <tr>\n",
       "      <th></th>\n",
       "      <th>AGG</th>\n",
       "      <th>SPY</th>\n",
       "    </tr>\n",
       "    <tr>\n",
       "      <th></th>\n",
       "      <th>close</th>\n",
       "      <th>close</th>\n",
       "    </tr>\n",
       "    <tr>\n",
       "      <th>time</th>\n",
       "      <th></th>\n",
       "      <th></th>\n",
       "    </tr>\n",
       "  </thead>\n",
       "  <tbody>\n",
       "    <tr>\n",
       "      <th>2019-01-02 00:00:00-05:00</th>\n",
       "      <td>NaN</td>\n",
       "      <td>NaN</td>\n",
       "    </tr>\n",
       "    <tr>\n",
       "      <th>2019-01-03 00:00:00-05:00</th>\n",
       "      <td>0.004081</td>\n",
       "      <td>-0.021730</td>\n",
       "    </tr>\n",
       "    <tr>\n",
       "      <th>2019-01-04 00:00:00-05:00</th>\n",
       "      <td>-0.003037</td>\n",
       "      <td>0.032521</td>\n",
       "    </tr>\n",
       "    <tr>\n",
       "      <th>2019-01-07 00:00:00-05:00</th>\n",
       "      <td>-0.002109</td>\n",
       "      <td>0.007884</td>\n",
       "    </tr>\n",
       "    <tr>\n",
       "      <th>2019-01-08 00:00:00-05:00</th>\n",
       "      <td>-0.000470</td>\n",
       "      <td>0.008844</td>\n",
       "    </tr>\n",
       "  </tbody>\n",
       "</table>\n",
       "</div>"
      ],
      "text/plain": [
       "                                AGG       SPY\n",
       "                              close     close\n",
       "time                                         \n",
       "2019-01-02 00:00:00-05:00       NaN       NaN\n",
       "2019-01-03 00:00:00-05:00  0.004081 -0.021730\n",
       "2019-01-04 00:00:00-05:00 -0.003037  0.032521\n",
       "2019-01-07 00:00:00-05:00 -0.002109  0.007884\n",
       "2019-01-08 00:00:00-05:00 -0.000470  0.008844"
      ]
     },
     "execution_count": 34,
     "metadata": {},
     "output_type": "execute_result"
    }
   ],
   "source": [
    "# DAILY ROI\n",
    "combined_df = df.pct_change()\n",
    "combined_df.head()"
   ]
  },
  {
   "cell_type": "code",
   "execution_count": 35,
   "metadata": {},
   "outputs": [
    {
     "data": {
      "text/plain": [
       "0.007820053413439366"
      ]
     },
     "execution_count": 35,
     "metadata": {},
     "output_type": "execute_result"
    }
   ],
   "source": [
    "# VOLATILITY\n",
    "avg_daily_return_agg = combined_df.mean()[\"AGG\"]['close']\n",
    "avg_daily_return_spy = combined_df.mean()[\"SPY\"]['close']\n",
    "\n",
    "std_dev_daily_return_agg = combined_df.std()[\"AGG\"]['close']\n",
    "std_dev_daily_return_spy = combined_df.std()[\"SPY\"]['close']\n",
    "std_dev_daily_return_spy"
   ]
  },
  {
   "cell_type": "code",
   "execution_count": 36,
   "metadata": {},
   "outputs": [
    {
     "data": {
      "text/plain": [
       "321.92"
      ]
     },
     "execution_count": 36,
     "metadata": {},
     "output_type": "execute_result"
    }
   ],
   "source": [
    "# LAST DAY CLOSING PRICE\n",
    "agg_last_price = df[\"AGG\"]['close'][-1]\n",
    "spy_last_price = df[\"SPY\"]['close'][-1]\n",
    "spy_last_price"
   ]
  },
  {
   "cell_type": "code",
   "execution_count": 31,
   "metadata": {},
   "outputs": [],
   "source": [
    "# MONTE CARLO PARAMETERS\n",
    "number_simulations = 500\n",
    "number_records = 252 * 30\n",
    "monte_carlo = pd.DataFrame()"
   ]
  },
  {
   "cell_type": "code",
   "execution_count": 37,
   "metadata": {},
   "outputs": [
    {
     "data": {
      "text/html": [
       "<div>\n",
       "<style scoped>\n",
       "    .dataframe tbody tr th:only-of-type {\n",
       "        vertical-align: middle;\n",
       "    }\n",
       "\n",
       "    .dataframe tbody tr th {\n",
       "        vertical-align: top;\n",
       "    }\n",
       "\n",
       "    .dataframe thead th {\n",
       "        text-align: right;\n",
       "    }\n",
       "</style>\n",
       "<table border=\"1\" class=\"dataframe\">\n",
       "  <thead>\n",
       "    <tr style=\"text-align: right;\">\n",
       "      <th></th>\n",
       "      <th>Simulation 1</th>\n",
       "      <th>Simulation 2</th>\n",
       "      <th>Simulation 3</th>\n",
       "      <th>Simulation 4</th>\n",
       "      <th>Simulation 5</th>\n",
       "      <th>Simulation 6</th>\n",
       "      <th>Simulation 7</th>\n",
       "      <th>Simulation 8</th>\n",
       "      <th>Simulation 9</th>\n",
       "      <th>Simulation 10</th>\n",
       "      <th>...</th>\n",
       "      <th>Simulation 491</th>\n",
       "      <th>Simulation 492</th>\n",
       "      <th>Simulation 493</th>\n",
       "      <th>Simulation 494</th>\n",
       "      <th>Simulation 495</th>\n",
       "      <th>Simulation 496</th>\n",
       "      <th>Simulation 497</th>\n",
       "      <th>Simulation 498</th>\n",
       "      <th>Simulation 499</th>\n",
       "      <th>Simulation 500</th>\n",
       "    </tr>\n",
       "  </thead>\n",
       "  <tbody>\n",
       "    <tr>\n",
       "      <th>0</th>\n",
       "      <td>1.000000</td>\n",
       "      <td>1.000000</td>\n",
       "      <td>1.000000</td>\n",
       "      <td>1.000000</td>\n",
       "      <td>1.000000</td>\n",
       "      <td>1.000000</td>\n",
       "      <td>1.000000</td>\n",
       "      <td>1.000000</td>\n",
       "      <td>1.000000</td>\n",
       "      <td>1.000000</td>\n",
       "      <td>...</td>\n",
       "      <td>1.000000</td>\n",
       "      <td>1.000000</td>\n",
       "      <td>1.000000</td>\n",
       "      <td>1.000000</td>\n",
       "      <td>1.000000</td>\n",
       "      <td>1.000000</td>\n",
       "      <td>1.000000</td>\n",
       "      <td>1.000000</td>\n",
       "      <td>1.000000</td>\n",
       "      <td>1.000000</td>\n",
       "    </tr>\n",
       "    <tr>\n",
       "      <th>1</th>\n",
       "      <td>1.000884</td>\n",
       "      <td>1.000961</td>\n",
       "      <td>1.004668</td>\n",
       "      <td>0.992451</td>\n",
       "      <td>0.999351</td>\n",
       "      <td>1.004790</td>\n",
       "      <td>1.002996</td>\n",
       "      <td>0.994316</td>\n",
       "      <td>0.999875</td>\n",
       "      <td>1.006239</td>\n",
       "      <td>...</td>\n",
       "      <td>1.000651</td>\n",
       "      <td>1.004170</td>\n",
       "      <td>1.004930</td>\n",
       "      <td>1.001494</td>\n",
       "      <td>0.994391</td>\n",
       "      <td>0.996443</td>\n",
       "      <td>1.003212</td>\n",
       "      <td>1.006808</td>\n",
       "      <td>1.002775</td>\n",
       "      <td>0.998818</td>\n",
       "    </tr>\n",
       "    <tr>\n",
       "      <th>2</th>\n",
       "      <td>1.008814</td>\n",
       "      <td>1.003590</td>\n",
       "      <td>1.000247</td>\n",
       "      <td>0.998212</td>\n",
       "      <td>0.999673</td>\n",
       "      <td>0.997939</td>\n",
       "      <td>1.001637</td>\n",
       "      <td>0.991857</td>\n",
       "      <td>1.007769</td>\n",
       "      <td>0.996609</td>\n",
       "      <td>...</td>\n",
       "      <td>1.003417</td>\n",
       "      <td>1.000649</td>\n",
       "      <td>1.003570</td>\n",
       "      <td>1.008805</td>\n",
       "      <td>1.000028</td>\n",
       "      <td>0.994248</td>\n",
       "      <td>0.999017</td>\n",
       "      <td>1.005816</td>\n",
       "      <td>1.008249</td>\n",
       "      <td>1.003292</td>\n",
       "    </tr>\n",
       "    <tr>\n",
       "      <th>3</th>\n",
       "      <td>1.007954</td>\n",
       "      <td>1.003306</td>\n",
       "      <td>1.001507</td>\n",
       "      <td>1.003030</td>\n",
       "      <td>0.999780</td>\n",
       "      <td>0.993913</td>\n",
       "      <td>1.001154</td>\n",
       "      <td>0.994710</td>\n",
       "      <td>1.003564</td>\n",
       "      <td>0.999738</td>\n",
       "      <td>...</td>\n",
       "      <td>1.001317</td>\n",
       "      <td>0.998091</td>\n",
       "      <td>1.008223</td>\n",
       "      <td>1.008010</td>\n",
       "      <td>0.996362</td>\n",
       "      <td>0.994226</td>\n",
       "      <td>1.004174</td>\n",
       "      <td>1.004979</td>\n",
       "      <td>1.012783</td>\n",
       "      <td>1.004095</td>\n",
       "    </tr>\n",
       "    <tr>\n",
       "      <th>4</th>\n",
       "      <td>1.006935</td>\n",
       "      <td>1.000505</td>\n",
       "      <td>0.993661</td>\n",
       "      <td>1.008399</td>\n",
       "      <td>1.002436</td>\n",
       "      <td>0.995384</td>\n",
       "      <td>0.996033</td>\n",
       "      <td>0.997573</td>\n",
       "      <td>1.005568</td>\n",
       "      <td>0.998601</td>\n",
       "      <td>...</td>\n",
       "      <td>1.008668</td>\n",
       "      <td>0.996638</td>\n",
       "      <td>1.008860</td>\n",
       "      <td>1.012277</td>\n",
       "      <td>1.004442</td>\n",
       "      <td>0.991500</td>\n",
       "      <td>1.006446</td>\n",
       "      <td>0.996255</td>\n",
       "      <td>1.012238</td>\n",
       "      <td>0.999074</td>\n",
       "    </tr>\n",
       "  </tbody>\n",
       "</table>\n",
       "<p>5 rows × 500 columns</p>\n",
       "</div>"
      ],
      "text/plain": [
       "   Simulation 1  Simulation 2  Simulation 3  Simulation 4  Simulation 5  \\\n",
       "0      1.000000      1.000000      1.000000      1.000000      1.000000   \n",
       "1      1.000884      1.000961      1.004668      0.992451      0.999351   \n",
       "2      1.008814      1.003590      1.000247      0.998212      0.999673   \n",
       "3      1.007954      1.003306      1.001507      1.003030      0.999780   \n",
       "4      1.006935      1.000505      0.993661      1.008399      1.002436   \n",
       "\n",
       "   Simulation 6  Simulation 7  Simulation 8  Simulation 9  Simulation 10  ...  \\\n",
       "0      1.000000      1.000000      1.000000      1.000000       1.000000  ...   \n",
       "1      1.004790      1.002996      0.994316      0.999875       1.006239  ...   \n",
       "2      0.997939      1.001637      0.991857      1.007769       0.996609  ...   \n",
       "3      0.993913      1.001154      0.994710      1.003564       0.999738  ...   \n",
       "4      0.995384      0.996033      0.997573      1.005568       0.998601  ...   \n",
       "\n",
       "   Simulation 491  Simulation 492  Simulation 493  Simulation 494  \\\n",
       "0        1.000000        1.000000        1.000000        1.000000   \n",
       "1        1.000651        1.004170        1.004930        1.001494   \n",
       "2        1.003417        1.000649        1.003570        1.008805   \n",
       "3        1.001317        0.998091        1.008223        1.008010   \n",
       "4        1.008668        0.996638        1.008860        1.012277   \n",
       "\n",
       "   Simulation 495  Simulation 496  Simulation 497  Simulation 498  \\\n",
       "0        1.000000        1.000000        1.000000        1.000000   \n",
       "1        0.994391        0.996443        1.003212        1.006808   \n",
       "2        1.000028        0.994248        0.999017        1.005816   \n",
       "3        0.996362        0.994226        1.004174        1.004979   \n",
       "4        1.004442        0.991500        1.006446        0.996255   \n",
       "\n",
       "   Simulation 499  Simulation 500  \n",
       "0        1.000000        1.000000  \n",
       "1        1.002775        0.998818  \n",
       "2        1.008249        1.003292  \n",
       "3        1.012783        1.004095  \n",
       "4        1.012238        0.999074  \n",
       "\n",
       "[5 rows x 500 columns]"
      ]
     },
     "execution_count": 37,
     "metadata": {},
     "output_type": "execute_result"
    }
   ],
   "source": [
    "# RUN SIMULATION\n",
    "for n in range(number_simulations):\n",
    "    simulated_price_df = pd.DataFrame()\n",
    "   \n",
    "    # Initialize the simulated prices list with the last closing price of `AGG` and `SPY`\n",
    "    simulated_agg_prices = [agg_last_price]\n",
    "    simulated_spy_prices = [spy_last_price]\n",
    "    \n",
    "    # Simulate the returns for 252*30 days\n",
    "    for i in range(number_records):\n",
    "        \n",
    "        # Calculate the simulated price using the last price within the list\n",
    "        simulated_agg_price = simulated_agg_prices[-1] * (1 + np.random.normal(avg_daily_return_agg, std_dev_daily_return_agg))\n",
    "        simulated_spy_price = simulated_spy_prices[-1] * (1 + np.random.normal(avg_daily_return_spy, std_dev_daily_return_spy))\n",
    "        \n",
    "        # Append the simulated price to the list\n",
    "        simulated_agg_prices.append(simulated_agg_price)\n",
    "        simulated_spy_prices.append(simulated_spy_price)\n",
    "    \n",
    "    # Append a simulated prices of each simulation to DataFrame\n",
    "    simulated_price_df[\"AGG prices\"] = pd.Series(simulated_agg_prices)\n",
    "    simulated_price_df[\"SPY prices\"] = pd.Series(simulated_spy_prices)\n",
    "\n",
    "    # Calculate the daily returns of simulated prices\n",
    "    simulated_daily_returns = simulated_price_df.pct_change()\n",
    "\n",
    "    #print(simulated_daily_returns)\n",
    "    \n",
    "    # Set the portfolio weights (40% AGG; 60% SPY)\n",
    "    weights = [0.40, 0.60]\n",
    "\n",
    "    # Use the `dot` function with the weights to multiply weights with each column\"s simulated daily returns\n",
    "    portfolio_daily_returns = simulated_daily_returns.dot(weights)\n",
    "    \n",
    "    # Calculate the normalized, cumulative return series\n",
    "    monte_carlo[f\"Simulation {n+1}\"] = (1 + portfolio_daily_returns.fillna(0)).cumprod()\n",
    "\n",
    "# Print records from the DataFrame\n",
    "monte_carlo.head()"
   ]
  },
  {
   "cell_type": "code",
   "execution_count": 38,
   "metadata": {},
   "outputs": [
    {
     "data": {
      "text/plain": [
       "<matplotlib.axes._subplots.AxesSubplot at 0x1e566d36d88>"
      ]
     },
     "execution_count": 38,
     "metadata": {},
     "output_type": "execute_result"
    },
    {
     "data": {
      "image/png": "[encoded data removed]",
      "text/plain": [
       "<Figure size 432x288 with 1 Axes>"
      ]
     },
     "metadata": {
      "needs_background": "light"
     },
     "output_type": "display_data"
    }
   ],
   "source": [
    "# VISUALIZE THE SIMULATION\n",
    "monte_carlo.plot(legend=None, title=\"Simulated Retirement Portfolio\")"
   ]
  },
  {
   "cell_type": "code",
   "execution_count": 40,
   "metadata": {},
   "outputs": [
    {
     "data": {
      "text/plain": [
       "Simulation 1    223.430088\n",
       "Simulation 2    184.553165\n",
       "Simulation 3    256.098311\n",
       "Simulation 4    269.208006\n",
       "Simulation 5    240.008303\n",
       "Name: 7560, dtype: float64"
      ]
     },
     "execution_count": 40,
     "metadata": {},
     "output_type": "execute_result"
    }
   ],
   "source": [
    "# LAST ROW OF CUMULATIVE RETURNS (AT 30 YEARS)\n",
    "ending_cumulative_returns = monte_carlo.iloc[-1, :]\n",
    "ending_cumulative_returns.head()"
   ]
  },
  {
   "cell_type": "code",
   "execution_count": 41,
   "metadata": {},
   "outputs": [
    {
     "data": {
      "text/plain": [
       "0.05     94.322229\n",
       "0.95    375.627004\n",
       "Name: 7560, dtype: float64"
      ]
     },
     "execution_count": 41,
     "metadata": {},
     "output_type": "execute_result"
    }
   ],
   "source": [
    "# 90% CONFIDENCE INTERVAL ENDING RETURNS\n",
    "confidence_interval = ending_cumulative_returns.quantile(q=[0.05, 0.95])\n",
    "confidence_interval"
   ]
  },
  {
   "cell_type": "code",
   "execution_count": 44,
   "metadata": {},
   "outputs": [
    {
     "data": {
      "text/plain": [
       "<matplotlib.lines.Line2D at 0x1e569718ac8>"
      ]
     },
     "execution_count": 44,
     "metadata": {},
     "output_type": "execute_result"
    },
    {
     "data": {
      "image/png": "[encoded data removed]",
      "text/plain": [
       "<Figure size 432x288 with 1 Axes>"
      ]
     },
     "metadata": {
      "needs_background": "light"
     },
     "output_type": "display_data"
    }
   ],
   "source": [
    "# VISUALIZE ENDING RETURNS\n",
    "plt.figure();\n",
    "ending_cumulative_returns.plot(kind=\"hist\", title=\"Cumulative Returns\", density=True, bins=50)\n",
    "plt.axvline(confidence_interval.iloc[0], color='r')\n",
    "plt.axvline(confidence_interval.iloc[1], color='r')"
   ]
  },
  {
   "cell_type": "code",
   "execution_count": 45,
   "metadata": {},
   "outputs": [
    {
     "name": "stdout",
     "output_type": "stream",
     "text": [
      "Expected cumulative returns at 30 years for 10th, 50th, 90th percentiles: \n",
      "0.1    118.252534\n",
      "0.5    190.342960\n",
      "0.9    313.684237\n",
      "Name: 7560, dtype: float64\n"
     ]
    }
   ],
   "source": [
    "# CUMULATIVE RETURNS AT 30 YEARS FOR 10th, 50th, AND 90th PERCENTILES\n",
    "cumulative_returns_percentiles = ending_cumulative_returns.quantile(q=[0.1, 0.5, 0.90])\n",
    "print(f\"Expected cumulative returns at 30 years for 10th, 50th, 90th percentiles: \\n{cumulative_returns_percentiles}\")"
   ]
  },
  {
   "cell_type": "code",
   "execution_count": 46,
   "metadata": {},
   "outputs": [
    {
     "data": {
      "text/plain": [
       "0.1    2365050\n",
       "0.5    3806859\n",
       "0.9    6273684\n",
       "Name: 7560, dtype: int32"
      ]
     },
     "execution_count": 46,
     "metadata": {},
     "output_type": "execute_result"
    }
   ],
   "source": [
    "# EXPECTED RETURN AT 10th, 50th, 90th PERCENTILES WITH INITIAL INVESTMENT OF $20,000\n",
    "initial_investment=20000\n",
    "cumulative_pnl=initial_investment*cumulative_returns_percentiles\n",
    "cumulative_pnl.astype(int)"
   ]
  },
  {
   "cell_type": "code",
   "execution_count": 53,
   "metadata": {},
   "outputs": [
    {
     "name": "stdout",
     "output_type": "stream",
     "text": [
      "The 4% withdrawal at the 10th percentile is $946020, which is more than projected income of $6085, so there should be sufficient funds at retirement\n"
     ]
    }
   ],
   "source": [
    "# WILL A 4% WITHDRAWL RATE MEET OR EXCEED THAT VALUE OF THE 10th PERCENTILE?\n",
    "projected_yearly_income = 6085\n",
    "\n",
    "return_withdrawal = int(cumulative_pnl.iloc[0]*0.4)\n",
    "return_withdrawal\n",
    "\n",
    "if projected_yearly_income >= return_withdrawal:\n",
    "    print(f\"The 4% withdrawal at the 10th percentile is ${return_withdrawal}, which is less than projected income of ${projected_yearly_income}, so there will be too little funds by retirement\")\n",
    "else:\n",
    "    print(f\"The 4% withdrawal at the 10th percentile is ${return_withdrawal}, which is more than projected income of ${projected_yearly_income}, so there should be sufficient funds at retirement\")"
   ]
  },
  {
   "cell_type": "code",
   "execution_count": 56,
   "metadata": {},
   "outputs": [
    {
     "name": "stdout",
     "output_type": "stream",
     "text": [
      "After an increased investment of 50%, the 4% withdrawal at the 10th percentile is $141903, which is more than projected income of $6085, so there should be sufficient funds at retirement\n"
     ]
    }
   ],
   "source": [
    "# HOW WOULD A 50% INCREASE IN INITIAL INVESTMENT AFFECT THE 4% WITHDRAWAL?\n",
    "increased_investment = initial_investment*1.5\n",
    "increased_investment\n",
    "\n",
    "# Calculate expected portfolio return with incresed investment amount\n",
    "increased_cumulative_pnl = increased_investment * cumulative_returns_percentiles\n",
    "\n",
    "# Calculate the 4% withdrawal for the ending return as retirement income\n",
    "return_withdrawal_increased = int(increased_cumulative_pnl.iloc[0]*0.04)\n",
    "return_withdrawal_increased\n",
    "\n",
    "# Determine if the retirement income meets or exceeds the current projected income\n",
    "if projected_yearly_income >= return_withdrawal_increased:\n",
    "    print(f\"After an increased investment of 50%, the 4% withdrawal at the 10th percentile is ${return_withdrawal_increased}, which is less than projected income of ${projected_yearly_income}, so there will be too little funds by retirement\")\n",
    "else:\n",
    "    print(f\"After an increased investment of 50%, the 4% withdrawal at the 10th percentile is ${return_withdrawal_increased}, which is more than projected income of ${projected_yearly_income}, so there should be sufficient funds at retirement\")"
   ]
  },
  {
   "cell_type": "code",
   "execution_count": null,
   "metadata": {},
   "outputs": [],
   "source": []
  }
 ],
 "metadata": {
  "kernelspec": {
   "display_name": "Python [conda env:pyvizenv] *",
   "language": "python",
   "name": "conda-env-pyvizenv-py"
  },
  "language_info": {
   "codemirror_mode": {
    "name": "ipython",
    "version": 3
   },
   "file_extension": ".py",
   "mimetype": "text/x-python",
   "name": "python",
   "nbconvert_exporter": "python",
   "pygments_lexer": "ipython3",
   "version": "3.7.7"
  }
 },
 "nbformat": 4,
 "nbformat_minor": 4
}
